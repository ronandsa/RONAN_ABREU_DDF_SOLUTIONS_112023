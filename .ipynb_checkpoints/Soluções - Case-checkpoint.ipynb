{
 "cells": [
  {
   "cell_type": "markdown",
   "id": "798b697a",
   "metadata": {},
   "source": [
    "# Soluções - Case\n"
   ]
  },
  {
   "cell_type": "markdown",
   "id": "1753b1ba",
   "metadata": {},
   "source": [
    "## Item 1 - Sobre Solutions Engineering"
   ]
  },
  {
   "cell_type": "markdown",
   "id": "8bd7e424",
   "metadata": {},
   "source": [
    "#### 1.1 Link do vídeo com a apresentação da arquitetura sugerida:"
   ]
  },
  {
   "cell_type": "markdown",
   "id": "4c5b9e1c",
   "metadata": {},
   "source": [
    "https://youtu.be/o0vZe84xz_c\n"
   ]
  },
  {
   "cell_type": "markdown",
   "id": "492322c1",
   "metadata": {},
   "source": [
    "## Item  2 - Sobre a Dadosfera"
   ]
  },
  {
   "cell_type": "markdown",
   "id": "0de43a85",
   "metadata": {},
   "source": [
    "#### 2.1 Os dados foram coletados via Rest api:"
   ]
  },
  {
   "cell_type": "markdown",
   "id": "57693cbd",
   "metadata": {},
   "source": [
    "![Imagem 1](imagens/item2/1.png)"
   ]
  },
  {
   "cell_type": "markdown",
   "id": "c8ff22b6",
   "metadata": {},
   "source": [
    "![Imagem 1](imagens/item2/2.png)"
   ]
  },
  {
   "cell_type": "markdown",
   "id": "669dd8eb",
   "metadata": {},
   "source": [
    "#### 2.2 As configurações da Api:"
   ]
  },
  {
   "cell_type": "markdown",
   "id": "bc8f3b08",
   "metadata": {},
   "source": [
    "![Imagem 3](imagens/item2/3.png)"
   ]
  },
  {
   "cell_type": "markdown",
   "id": "d5bd85f8",
   "metadata": {},
   "source": [
    "#### 2.3 Fonte de dados importada com sucesso e documentada:"
   ]
  },
  {
   "cell_type": "markdown",
   "id": "967bb15b",
   "metadata": {},
   "source": [
    "![Imagem 4](imagens/item2/4.png)"
   ]
  },
  {
   "cell_type": "markdown",
   "id": "40dadb1b",
   "metadata": {},
   "source": [
    "![Imagem 5](imagens/item2/5.png)"
   ]
  },
  {
   "cell_type": "markdown",
   "id": "87b3069b",
   "metadata": {},
   "source": [
    "![Imagem 6](imagens/item2/6.png)"
   ]
  },
  {
   "cell_type": "markdown",
   "id": "df01cfb5",
   "metadata": {},
   "source": [
    "![Imagem 7](imagens/item2/7.png)"
   ]
  },
  {
   "cell_type": "markdown",
   "id": "3e58ea05",
   "metadata": {},
   "source": [
    "## Item 3 - Sobre GenAI e LLMs"
   ]
  },
  {
   "cell_type": "markdown",
   "id": "735365b0",
   "metadata": {},
   "source": [
    "#### 3.1 Dados Categorizados importados e documentados:"
   ]
  },
  {
   "cell_type": "markdown",
   "id": "ad527b31",
   "metadata": {},
   "source": [
    "![Imagem 1](imagens/item3/1.png)"
   ]
  },
  {
   "cell_type": "markdown",
   "id": "112386c1",
   "metadata": {},
   "source": [
    "![Imagem 2](imagens/item3/2.png)"
   ]
  },
  {
   "cell_type": "markdown",
   "id": "206ff0af",
   "metadata": {},
   "source": [
    "#### 3.2 Foi necessário uma pequena manipulação para transformação da estrutura dos dados:"
   ]
  },
  {
   "cell_type": "markdown",
   "id": "f841c8a7",
   "metadata": {},
   "source": [
    "import requests\n",
    "\n",
    "    ###### URL do arquivo a ser baixado\n",
    "url = \"https://datasets-server.huggingface.co/first-rows?dataset=spacemanidol%2Fproduct-search-corpus&config=default&split=train\"\n",
    "\n",
    "    ###### Enviar solicitação GET para o URL\n",
    "response = requests.get(url)\n",
    "\n",
    "    ###### Verificar se a solicitação foi bem-sucedida\n",
    "if response.status_code == 200:\n",
    "    # Escrever o conteúdo em um arquivo\n",
    "    with open('dados.json', 'wb') as file:\n",
    "        file.write(response.content)\n",
    "else:\n",
    "    print(f\"Erro ao baixar o arquivo: Status Code {response.status_code}\")\n",
    "\n",
    "import os\n",
    "os.listdir()\n",
    "\n",
    "\n",
    "try:\n",
    "    ##### Abrindo e lendo o arquivo JSON com o encoding ISO-8859-1\n",
    "    with open('dados.json', 'r', encoding='ISO-8859-1') as file:\n",
    "        data = json.load(file)\n",
    "\n",
    "    ###### Verificando o tipo dos dados e exibindo uma parte do conteúdo\n",
    "    if isinstance(data, list):\n",
    "        # Se os dados são uma lista, imprime os primeiros 5 elementos\n",
    "        print(json.dumps(data[:5], indent=4, ensure_ascii=False))\n",
    "    elif isinstance(data, dict):\n",
    "    ##### Se os dados são um dicionário, imprime as chaves e uma parte dos valores\n",
    "        for key, value in list(data.items())[:5]:\n",
    "            print(f\"{key}: {value}\")\n",
    "    else:\n",
    "        ##### Se os dados são de outro tipo, apenas imprime o tipo\n",
    "        print(f\"Tipo de dados desconhecido: {type(data)}\")\n",
    "\n",
    "except json.JSONDecodeError as e:\n",
    "    print(f\"Erro ao decodificar o JSON: {e}\")\n",
    "except Exception as e:\n",
    "    print(f\"Erro ao ler o arquivo: {e}\")\n",
    "\n",
    "\n",
    "    ##### Caminho do arquivo JSON\n",
    "json_file_path = 'dados.json'\n",
    "\n",
    "    ##### Carregar os dados do JSON\n",
    "with open(json_file_path, 'r', encoding='ISO-8859-1') as file:\n",
    "    data = json.load(file)\n",
    "\n",
    "    ##### Extraindo as linhas dos dados\n",
    "rows = [row['row'] for row in data['rows']]\n",
    "\n",
    "    ##### Criando um DataFrame a partir das linhas\n",
    "df = pd.DataFrame(rows)\n",
    "\n",
    "    ##### Caminho para salvar o arquivo CSV\n",
    "csv_file_path = 'produtos.csv'\n",
    "\n",
    "    ##### Salvando o DataFrame em um arquivo CSV\n",
    "df.to_csv(csv_file_path, index=False)\n",
    "\n",
    "print(f\"Arquivo CSV salvo com sucesso: {csv_file_path}\")\n",
    "\n",
    "\n",
    "\n",
    "\n",
    "\n",
    "\n",
    "![Imagem 3](imagens/item3/3.png)"
   ]
  },
  {
   "cell_type": "markdown",
   "id": "275c96e1",
   "metadata": {},
   "source": [
    "![Imagem 4](imagens/item3/4.png)"
   ]
  },
  {
   "cell_type": "markdown",
   "id": "b8bb6f8a",
   "metadata": {},
   "source": [
    "## Item  4 - Sobre SQL e Python"
   ]
  },
  {
   "cell_type": "markdown",
   "id": "662bf147",
   "metadata": {},
   "source": [
    "### 4.1 Dashboard:"
   ]
  },
  {
   "cell_type": "markdown",
   "id": "d23a0f18",
   "metadata": {},
   "source": [
    "![Imagem 1](imagens/item4/1.png)"
   ]
  },
  {
   "cell_type": "markdown",
   "id": "580c27d6",
   "metadata": {},
   "source": [
    "### 4.2 Consultas SQL  de origem dos gráficos:"
   ]
  },
  {
   "cell_type": "markdown",
   "id": "97aca1f2",
   "metadata": {},
   "source": [
    "#### 4.2.1 Consultas SQL  1:"
   ]
  },
  {
   "cell_type": "markdown",
   "id": "0886b943",
   "metadata": {},
   "source": [
    "-- Conta o número total de linhas na tabela\n",
    "\n",
    "SELECT COUNT(*) AS \"TOTAL_ROWS\"\n",
    "\n",
    "-- Especifica a tabela de onde os dados são extraídos\n",
    "\n",
    "FROM \"DADOSFERA_PRD_TREINAMENTOS\".\"PUBLIC\".\"TB__O5YFRG__PROD_CAT\" AS \"CAT\"\n",
    "\n",
    "![Imagem 2](imagens/item4/2.png)"
   ]
  },
  {
   "cell_type": "markdown",
   "id": "856c08be",
   "metadata": {},
   "source": [
    "#### 4.2.2 Consultas SQL  2:"
   ]
  },
  {
   "cell_type": "markdown",
   "id": "7915b852",
   "metadata": {},
   "source": [
    "\n",
    "-- Seleciona a coluna 'PRODUCT_TYPE' da tabela especificada, convertendo para maiúsculas para padronização\n",
    "\n",
    "SELECT UPPER(\"CAT\".\"PRODUCT_TYPE\"), \n",
    "\n",
    "-- Conta o número de registros para cada 'PRODUCT_TYPE'\n",
    "\n",
    "COUNT(*) AS \"COUNT\" \n",
    "\n",
    "-- Especifica a tabela de onde os dados são extraídos\n",
    "\n",
    "FROM \"DADOSFERA_PRD_TREINAMENTOS\".\"PUBLIC\".\"TB__O5YFRG__PROD_CAT\" AS \"CAT\" \n",
    "\n",
    "-- Filtra para excluir a categoria 'NOT SPECIFIED'\n",
    "\n",
    "WHERE UPPER(\"CAT\".\"PRODUCT_TYPE\") <> 'NOT SPECIFIED'\n",
    "\n",
    "-- Agrupa os resultados pela coluna 'PRODUCT_TYPE'\n",
    "\n",
    "GROUP BY UPPER(\"CAT\".\"PRODUCT_TYPE\") \n",
    "\n",
    "-- Ordena os resultados pela contagem em ordem decrescente\n",
    "ORDER BY \"COUNT\" DESC \n",
    "\n",
    "\n",
    "\n",
    "\n",
    "\n",
    "\n",
    "\n",
    "![Imagem 2](imagens/item4/3.png)"
   ]
  },
  {
   "cell_type": "markdown",
   "id": "d06a3bc3",
   "metadata": {},
   "source": [
    "#### 4.2.3 Consultas SQL  3:"
   ]
  },
  {
   "cell_type": "markdown",
   "id": "b6cee48c",
   "metadata": {},
   "source": [
    "SELECT \n",
    "\n",
    "    -- A cláusula CASE é usada para tratar \"Clothes\" e \"Clothing\" como a mesma categoria\n",
    "    \n",
    "    CASE \n",
    "        -- Verifica se a categoria é \"Clothes\" ou \"Clothing\" (considera variações de maiúsculas/minúsculas)\n",
    "        \n",
    "        WHEN UPPER(\"CAT\".\"CATEGORY\") IN ('CLOTHES', 'CLOTHING') THEN 'CLOTHES'\n",
    "        \n",
    "        -- Para outras categorias, apenas converte para maiúsculas para padronização\n",
    "        \n",
    "        ELSE UPPER(\"CAT\".\"CATEGORY\")\n",
    "        \n",
    "    END AS \"AGGREGATED_CATEGORY\", -- A categoria resultante é renomeada como \"AGGREGATED_CATEGORY\"\n",
    "    \n",
    "    COUNT(*) AS \"COUNT\" -- Conta o número de registros para cada categoria agrupada\n",
    "    \n",
    "FROM \n",
    "\n",
    "    \"DADOSFERA_PRD_TREINAMENTOS\".\"PUBLIC\".\"TB__O5YFRG__PROD_CAT\" AS \"CAT\" \n",
    "    -- A tabela de onde os dados são extraídos\n",
    "    \n",
    "GROUP BY \n",
    "\n",
    "    \"AGGREGATED_CATEGORY\" \n",
    "    \n",
    "    -- Agrupa os resultados pela categoria agregada\n",
    "    \n",
    "ORDER BY \n",
    "\n",
    "    \"COUNT\" DESC \n",
    "    \n",
    "    -- Ordena os resultados pela contagem em ordem decrescente\n",
    "    \n",
    "LIMIT 5\n",
    "\n",
    "-- Limita os resultados às 5 categorias mais frequentes\n",
    "\n",
    "\n",
    "![Imagem 3](imagens/item4/4.png)"
   ]
  },
  {
   "cell_type": "markdown",
   "id": "8270a7fa",
   "metadata": {},
   "source": [
    "#### 4.2.4 Consultas SQL  4"
   ]
  },
  {
   "cell_type": "markdown",
   "id": "e1e4a12d",
   "metadata": {},
   "source": [
    "-- Seleciona a coluna 'COLORS' da tabela especificada, convertendo para maiúsculas para padronização\n",
    "\n",
    "SELECT UPPER(\"CAT\".\"COLORS\"), \n",
    "\n",
    "-- Conta o número de registros para cada cor\n",
    "\n",
    "COUNT(*) AS \"COUNT\" \n",
    "\n",
    "-- Especifica a tabela de onde os dados são extraídos\n",
    "\n",
    "FROM \"DADOSFERA_PRD_TREINAMENTOS\".\"PUBLIC\".\"TB__O5YFRG__PROD_CAT\" AS \"CAT\" \n",
    "\n",
    "-- Filtra para excluir as cores \n",
    "\n",
    "WHERE UPPER(\"CAT\".\"COLORS\") NOT IN ('NOT SPECIFIED', 'VARIOUS','UNINFORMED','COLORFUL','VARIED','STAINLESS STEEL','SEVERAL','HEATHER','TRANSPARENT')\n",
    "\n",
    "-- Agrupa os resultados pela coluna 'COLORS'\n",
    "\n",
    "GROUP BY UPPER(\"CAT\".\"COLORS\") \n",
    "\n",
    "-- Ordena os resultados pela contagem em ordem decrescente\n",
    "\n",
    "ORDER BY \"COUNT\" DESC \n",
    "\n",
    "\n",
    "![Imagem 4](imagens/item4/5.png)"
   ]
  },
  {
   "cell_type": "markdown",
   "id": "c3390fde",
   "metadata": {},
   "source": [
    "## Item  5 - Sobre Data Apps"
   ]
  },
  {
   "cell_type": "markdown",
   "id": "3dcfb3b6",
   "metadata": {},
   "source": [
    "### 5.1 Configuração com recursos de bibliotecas necessárias:"
   ]
  },
  {
   "cell_type": "markdown",
   "id": "44007cf3",
   "metadata": {},
   "source": [
    "![Imagem 1](imagens/item5/1.png)"
   ]
  },
  {
   "cell_type": "markdown",
   "id": "111399b8",
   "metadata": {},
   "source": [
    "### 5.2 Upload dos arquivos necessários:"
   ]
  },
  {
   "cell_type": "markdown",
   "id": "47ff868a",
   "metadata": {},
   "source": [
    "![Imagem 2](imagens/item5/2.png)"
   ]
  },
  {
   "cell_type": "markdown",
   "id": "d239f416",
   "metadata": {},
   "source": [
    "### 5.3 Configuração do Service:"
   ]
  },
  {
   "cell_type": "markdown",
   "id": "3875b000",
   "metadata": {},
   "source": [
    "![Imagem 3](imagens/item5/3.png)"
   ]
  },
  {
   "cell_type": "markdown",
   "id": "fc1fc8f7",
   "metadata": {},
   "source": [
    "### 5.4 Data App rodando perfeitamente:"
   ]
  },
  {
   "cell_type": "markdown",
   "id": "1161f832",
   "metadata": {},
   "source": [
    "![Imagem 4](imagens/item5/4.png)"
   ]
  },
  {
   "cell_type": "markdown",
   "id": "ded8a3a5",
   "metadata": {},
   "source": [
    "![Imagem 5](imagens/item5/5.png)"
   ]
  },
  {
   "cell_type": "markdown",
   "id": "f1cdb40b",
   "metadata": {},
   "source": [
    "![Imagem 6](imagens/item5/6.png)"
   ]
  },
  {
   "cell_type": "markdown",
   "id": "f5118c94",
   "metadata": {},
   "source": [
    "### 5.5 Link do Data App:"
   ]
  },
  {
   "cell_type": "markdown",
   "id": "11289127",
   "metadata": {},
   "source": [
    "https://app-intelligence-treinamentos.dadosfera.ai/pbp-service-streamlit-50d9c6e8-bcc9-4e6143da4674-ca2d-45d3_8501/"
   ]
  },
  {
   "cell_type": "markdown",
   "id": "2696f25b",
   "metadata": {},
   "source": [
    "### Qualquer dúvida estou a disposição.\n",
    "\n",
    "![Muito Obrigado!](https://gifs.eco.br/wp-content/uploads/2022/03/gifs-animados-de-obrigado-16.gif)\n"
   ]
  }
 ],
 "metadata": {
  "kernelspec": {
   "display_name": "Python 3 (ipykernel)",
   "language": "python",
   "name": "python3"
  },
  "language_info": {
   "codemirror_mode": {
    "name": "ipython",
    "version": 3
   },
   "file_extension": ".py",
   "mimetype": "text/x-python",
   "name": "python",
   "nbconvert_exporter": "python",
   "pygments_lexer": "ipython3",
   "version": "3.9.13"
  }
 },
 "nbformat": 4,
 "nbformat_minor": 5
}
